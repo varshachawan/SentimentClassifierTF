{
  "nbformat": 4,
  "nbformat_minor": 0,
  "metadata": {
    "colab": {
      "name": "sentimentAnalysis (1).ipynb",
      "provenance": [],
      "include_colab_link": true
    },
    "kernelspec": {
      "name": "python3",
      "display_name": "Python 3"
    },
    "accelerator": "GPU"
  },
  "cells": [
    {
      "cell_type": "markdown",
      "metadata": {
        "id": "view-in-github",
        "colab_type": "text"
      },
      "source": [
        "<a href=\"https://colab.research.google.com/github/varshachawan/SentimentClassifierTF/blob/master/sentimentAnalysis_(1).ipynb\" target=\"_parent\"><img src=\"https://colab.research.google.com/assets/colab-badge.svg\" alt=\"Open In Colab\"/></a>"
      ]
    },
    {
      "cell_type": "code",
      "metadata": {
        "id": "8UzkuiwyEP6j",
        "colab_type": "code",
        "colab": {}
      },
      "source": [
        "!nvidia-smi"
      ],
      "execution_count": 0,
      "outputs": []
    },
    {
      "cell_type": "code",
      "metadata": {
        "id": "T2emZMt5Knsm",
        "colab_type": "code",
        "colab": {}
      },
      "source": [
        "from __future__ import absolute_import,division,print_function,unicode_literals\n"
      ],
      "execution_count": 0,
      "outputs": []
    },
    {
      "cell_type": "code",
      "metadata": {
        "id": "xCW_A_sPKmRM",
        "colab_type": "code",
        "colab": {}
      },
      "source": [
        "try :\n",
        "  !pip uninstall tb-nightly tensorboardx tensorboard\n",
        "  !pip install tf-nightly\n",
        "except Exception:\n",
        "  pass\n",
        "  "
      ],
      "execution_count": 0,
      "outputs": []
    },
    {
      "cell_type": "markdown",
      "metadata": {
        "id": "txRfyIDyL1qQ",
        "colab_type": "text"
      },
      "source": [
        ""
      ]
    },
    {
      "cell_type": "code",
      "metadata": {
        "id": "jmUp2PXBL4Ns",
        "colab_type": "code",
        "colab": {}
      },
      "source": [
        "import tensorflow as tf\n",
        "import os\n",
        "import datetime\n",
        "import tensorflow_datasets as tfds"
      ],
      "execution_count": 0,
      "outputs": []
    },
    {
      "cell_type": "code",
      "metadata": {
        "id": "ii2QFfBGMWW1",
        "colab_type": "code",
        "colab": {}
      },
      "source": [
        "%load_ext tensorboard"
      ],
      "execution_count": 0,
      "outputs": []
    },
    {
      "cell_type": "code",
      "metadata": {
        "id": "ngsI8ggnNT1H",
        "colab_type": "code",
        "colab": {}
      },
      "source": [
        "import pkg_resources\n",
        "for entry_point in pkg_resources.iter_entry_points('tensorboard_plugins'):\n",
        "  print(entry_point.dist)"
      ],
      "execution_count": 0,
      "outputs": []
    },
    {
      "cell_type": "code",
      "metadata": {
        "id": "igihDNRCOgt7",
        "colab_type": "code",
        "colab": {}
      },
      "source": [
        "#!ls -alrt /usr/local/lib/python3.6/dist-packages/tensorboard*"
      ],
      "execution_count": 0,
      "outputs": []
    },
    {
      "cell_type": "code",
      "metadata": {
        "id": "zapeTFLoPMgp",
        "colab_type": "code",
        "colab": {}
      },
      "source": [
        "! rm -r /usr/local/lib/python3.6/dist-packages/tensorboardcolab-0.0.22.dist-info\n"
      ],
      "execution_count": 0,
      "outputs": []
    },
    {
      "cell_type": "code",
      "metadata": {
        "id": "RQOKIAQ4Pgy5",
        "colab_type": "code",
        "colab": {}
      },
      "source": [
        "print(tf.__version__)"
      ],
      "execution_count": 0,
      "outputs": []
    },
    {
      "cell_type": "code",
      "metadata": {
        "id": "fuJOdFeDPvOV",
        "colab_type": "code",
        "colab": {}
      },
      "source": [
        "tf.config.experimental.list_physical_devices()"
      ],
      "execution_count": 0,
      "outputs": []
    },
    {
      "cell_type": "code",
      "metadata": {
        "id": "ifd5PicUP7ua",
        "colab_type": "code",
        "colab": {}
      },
      "source": [
        "dataset,info = tfds.load('amazon_us_reviews/Mobile_Electronics_v1_00',with_info= True)"
      ],
      "execution_count": 0,
      "outputs": []
    },
    {
      "cell_type": "code",
      "metadata": {
        "id": "LhH29yvPQrpA",
        "colab_type": "code",
        "colab": {}
      },
      "source": [
        "train_dataset = dataset['train']"
      ],
      "execution_count": 0,
      "outputs": []
    },
    {
      "cell_type": "code",
      "metadata": {
        "id": "OEH00E8sQ3Fv",
        "colab_type": "code",
        "colab": {}
      },
      "source": [
        "info"
      ],
      "execution_count": 0,
      "outputs": []
    },
    {
      "cell_type": "code",
      "metadata": {
        "id": "smU1mlztQ4JT",
        "colab_type": "code",
        "colab": {}
      },
      "source": [
        "len(list(train_dataset))"
      ],
      "execution_count": 0,
      "outputs": []
    },
    {
      "cell_type": "code",
      "metadata": {
        "id": "0H2ajCHCRAjB",
        "colab_type": "code",
        "colab": {}
      },
      "source": [
        "print(train_dataset)"
      ],
      "execution_count": 0,
      "outputs": []
    },
    {
      "cell_type": "code",
      "metadata": {
        "id": "RIhkLpjKVFA8",
        "colab_type": "code",
        "colab": {}
      },
      "source": [
        "BUFFER_SIZE = 30000\n",
        "BATCH_SIZE = 128"
      ],
      "execution_count": 0,
      "outputs": []
    },
    {
      "cell_type": "code",
      "metadata": {
        "id": "UW8TUf35VZ4A",
        "colab_type": "code",
        "colab": {}
      },
      "source": [
        "train_dataset = train_dataset.shuffle(BUFFER_SIZE,reshuffle_each_iteration=False)"
      ],
      "execution_count": 0,
      "outputs": []
    },
    {
      "cell_type": "code",
      "metadata": {
        "id": "gbv8zhTBWZ1D",
        "colab_type": "code",
        "colab": {}
      },
      "source": [
        "for reviews in train_dataset.take(1):\n",
        "  print(reviews)"
      ],
      "execution_count": 0,
      "outputs": []
    },
    {
      "cell_type": "code",
      "metadata": {
        "id": "WTG4AO1fWs5q",
        "colab_type": "code",
        "colab": {}
      },
      "source": [
        "for reviews in train_dataset.take(5):\n",
        "  review_text = reviews['data']\n",
        "  print(review_text.get('review_body').numpy())\n",
        "  print(review_text.get('star_rating'))\n",
        "  print(tf.where(review_text.get('star_rating')>3,1,0).numpy())"
      ],
      "execution_count": 0,
      "outputs": []
    },
    {
      "cell_type": "code",
      "metadata": {
        "colab_type": "code",
        "id": "23p8AmtJYLQW",
        "colab": {}
      },
      "source": [
        "tokenizer = tfds.features.text.Tokenizer()\n",
        "vocabulary_set= set()\n",
        "for _,reviews in train_dataset.enumerate():\n",
        "  review_text = reviews['data']\n",
        "  reviews_tokens = tokenizer.tokenize(review_text.get('review_body').numpy())\n",
        "  vocabulary_set.update(reviews_tokens)\n",
        "\n"
      ],
      "execution_count": 0,
      "outputs": []
    },
    {
      "cell_type": "code",
      "metadata": {
        "id": "vmvA2sYOaRmD",
        "colab_type": "code",
        "colab": {}
      },
      "source": [
        "vocab_size=len(vocabulary_set)\n",
        "vocab_size"
      ],
      "execution_count": 0,
      "outputs": []
    },
    {
      "cell_type": "code",
      "metadata": {
        "id": "pWKF7RS8amo3",
        "colab_type": "code",
        "colab": {}
      },
      "source": [
        "print(vocabulary_set)"
      ],
      "execution_count": 0,
      "outputs": []
    },
    {
      "cell_type": "code",
      "metadata": {
        "id": "afld_xh3ap7K",
        "colab_type": "code",
        "colab": {}
      },
      "source": [
        "encoder = tfds.features.text.TokenTextEncoder(vocabulary_set)"
      ],
      "execution_count": 0,
      "outputs": []
    },
    {
      "cell_type": "code",
      "metadata": {
        "id": "LkrwqBu_bTQq",
        "colab_type": "code",
        "colab": {}
      },
      "source": [
        "for reviews in train_dataset.take(2):\n",
        "    review_text = reviews['data']\n",
        "    enc_exp= encoder.encode(review_text.get('review_body').numpy())\n",
        "    print(review_text.get('review_body').numpy())\n",
        "    print(enc_exp)\n",
        "\n",
        "for index in enc_exp :\n",
        "  print('{}----->{}'.format(index,encoder.decode([index])))\n",
        "\n",
        "def encode(text_tensor,label_tensor):\n",
        "  encoded_text = encoder.encode(text_tensor.numpy())\n",
        "  label = tf.where(label_tensor>3,1,0)\n",
        "  return encoded_text, label\n"
      ],
      "execution_count": 0,
      "outputs": []
    },
    {
      "cell_type": "code",
      "metadata": {
        "id": "2ugKW6QiwU2A",
        "colab_type": "code",
        "colab": {}
      },
      "source": [
        "def encode_map_fn(tensor):\n",
        "  text = tensor['data'].get('review_body')\n",
        "  label = tensor['data'].get('star_rating')\n",
        "  encoded_text,label = tf.py_function(encode,inp=[text,label],Tout=(tf.int64,tf.int32))\n",
        "  encoded_text.set_shape([None])\n",
        "  label.set_shape([])\n",
        "  return encoded_text , label"
      ],
      "execution_count": 0,
      "outputs": []
    },
    {
      "cell_type": "code",
      "metadata": {
        "id": "sOfaOrxrZG6f",
        "colab_type": "code",
        "colab": {}
      },
      "source": [
        "ar_encoded_data = train_dataset.map(encode_map_fn)\n"
      ],
      "execution_count": 0,
      "outputs": []
    },
    {
      "cell_type": "code",
      "metadata": {
        "id": "2wRYovCTac1L",
        "colab_type": "code",
        "colab": {}
      },
      "source": [
        "for fo,f1 in ar_encoded_data.take(2) :\n",
        "  print('{}------->{}'.format(fo,f1))"
      ],
      "execution_count": 0,
      "outputs": []
    },
    {
      "cell_type": "code",
      "metadata": {
        "id": "RnLAbFOnbK3K",
        "colab_type": "code",
        "colab": {}
      },
      "source": [
        "TAKE_SIZE = 10000\n",
        "train_data = ar_encoded_data.skip(TAKE_SIZE).shuffle(BUFFER_SIZE)\n",
        "train_data = train_data.padded_batch(BATCH_SIZE)\n",
        "test_data = ar_encoded_data.take(TAKE_SIZE)\n",
        "test_data = test_data.padded_batch(BATCH_SIZE)\n"
      ],
      "execution_count": 0,
      "outputs": []
    },
    {
      "cell_type": "code",
      "metadata": {
        "id": "tuozoNt1cBA9",
        "colab_type": "code",
        "colab": {}
      },
      "source": [
        "vocab_size+=1"
      ],
      "execution_count": 0,
      "outputs": []
    },
    {
      "cell_type": "code",
      "metadata": {
        "id": "XgnHtE50cJlm",
        "colab_type": "code",
        "colab": {}
      },
      "source": [
        "sample_text , sample_label = next(iter(test_data))\n",
        "sample_text[0],sample_label[0]"
      ],
      "execution_count": 0,
      "outputs": []
    },
    {
      "cell_type": "code",
      "metadata": {
        "id": "RU6kpp4ae2KN",
        "colab_type": "code",
        "colab": {}
      },
      "source": [
        "for fo, f1 in test_data.take(2):\n",
        "  print(tf.unique_with_counts(f1)[2].numpy())"
      ],
      "execution_count": 0,
      "outputs": []
    },
    {
      "cell_type": "code",
      "metadata": {
        "id": "06jayGmjf-FI",
        "colab_type": "code",
        "colab": {}
      },
      "source": [
        ""
      ],
      "execution_count": 0,
      "outputs": []
    },
    {
      "cell_type": "code",
      "metadata": {
        "id": "6XdKdJINf-TQ",
        "colab_type": "code",
        "colab": {}
      },
      "source": [
        "model=tf.keras.Sequential()\n",
        "model.add(tf.keras.layers.Embedding(vocab_size,128))\n",
        "model.add(tf.keras.layers.Bidirectional(tf.keras.layers.LSTM(128,return_sequences= True)))\n",
        "model.add(tf.keras.layers.Bidirectional(tf.keras.layers.LSTM(64,return_sequences= True)))\n",
        "model.add(tf.keras.layers.Bidirectional(tf.keras.layers.LSTM(64)))\n",
        "model.add(tf.keras.layers.Dense(64,activation='relu'))\n",
        "model.add(tf.keras.layers.Dense(64,activation='relu'))\n",
        "model.add(tf.keras.layers.Dense(1))"
      ],
      "execution_count": 0,
      "outputs": []
    },
    {
      "cell_type": "code",
      "metadata": {
        "id": "PCLoB3ZFjtGu",
        "colab_type": "code",
        "outputId": "4e64da02-7fb3-45de-bce6-843c864c3ba8",
        "colab": {
          "base_uri": "https://localhost:8080/",
          "height": 35
        }
      },
      "source": [
        "!rm -r /tmp/logs/"
      ],
      "execution_count": 0,
      "outputs": [
        {
          "output_type": "stream",
          "text": [
            "rm: cannot remove '/tmp/logs/': No such file or directory\n"
          ],
          "name": "stdout"
        }
      ]
    },
    {
      "cell_type": "code",
      "metadata": {
        "id": "5Lk0Tt_vnjfK",
        "colab_type": "code",
        "outputId": "f652f3aa-3686-42a6-a0a0-b77d40b6555d",
        "colab": {
          "base_uri": "https://localhost:8080/",
          "height": 328
        }
      },
      "source": [
        "logdir=os.path.join(\"/tmp/logs\" ,datetime.datetime.now().strftime(\"%Y%m%d-%H%M%S\"))\n",
        "tensorboard_callback =tf.keras.callbacks.TensorBoard(logdir,histogram_freq=1)\n",
        "checkpointer = tf.keras.callbacks.ModelCheckpoint(filepath='/temp/sentiment_analysis.hdf5',verbose=1,save_best_only=True)\n",
        "model.compile(optimizer='adam',loss=tf.keras.losses.BinaryCrossentropy(from_logits=True),metrics=['accuracy'])\n",
        "history = model.fit(train_data,epochs=4,validation_data=test_data,callbacks=[tensorboard_callback,checkpointer])\n",
        "model.save('/tmp/final_sentiment_analysis.hdf5')\n"
      ],
      "execution_count": 0,
      "outputs": [
        {
          "output_type": "stream",
          "text": [
            "Epoch 1/4\n",
            "    742/Unknown - 908s 1s/step - loss: 0.3592 - accuracy: 0.8339\n",
            "Epoch 00001: val_loss improved from inf to 0.38129, saving model to /temp/sentiment_analysis.hdf5\n",
            "742/742 [==============================] - 954s 1s/step - loss: 0.3592 - accuracy: 0.8339 - val_loss: 0.3813 - val_accuracy: 0.8587\n",
            "Epoch 2/4\n",
            "742/742 [==============================] - ETA: 0s - loss: 0.2545 - accuracy: 0.8934\n",
            "Epoch 00002: val_loss improved from 0.38129 to 0.30234, saving model to /temp/sentiment_analysis.hdf5\n",
            "742/742 [==============================] - 944s 1s/step - loss: 0.2545 - accuracy: 0.8934 - val_loss: 0.3023 - val_accuracy: 0.8716\n",
            "Epoch 3/4\n",
            "742/742 [==============================] - ETA: 0s - loss: 0.1979 - accuracy: 0.9213\n",
            "Epoch 00003: val_loss improved from 0.30234 to 0.29481, saving model to /temp/sentiment_analysis.hdf5\n",
            "742/742 [==============================] - 946s 1s/step - loss: 0.1979 - accuracy: 0.9213 - val_loss: 0.2948 - val_accuracy: 0.8823\n",
            "Epoch 4/4\n",
            "742/742 [==============================] - ETA: 0s - loss: 0.1609 - accuracy: 0.9383\n",
            "Epoch 00004: val_loss did not improve from 0.29481\n",
            "742/742 [==============================] - 941s 1s/step - loss: 0.1609 - accuracy: 0.9383 - val_loss: 0.3252 - val_accuracy: 0.8779\n"
          ],
          "name": "stdout"
        }
      ]
    },
    {
      "cell_type": "code",
      "metadata": {
        "id": "e1tetbIVsLcf",
        "colab_type": "code",
        "colab": {}
      },
      "source": [
        ""
      ],
      "execution_count": 0,
      "outputs": []
    },
    {
      "cell_type": "code",
      "metadata": {
        "id": "NJCss8feqyVH",
        "colab_type": "code",
        "colab": {
          "base_uri": "https://localhost:8080/",
          "height": 581
        },
        "outputId": "ba444c26-d5c7-4de9-f581-bbb38f43f50f"
      },
      "source": [
        "!ls -alrt /"
      ],
      "execution_count": 7,
      "outputs": [
        {
          "output_type": "stream",
          "text": [
            "total 7908\n",
            "drwxr-xr-x   2 root root    4096 Apr 24  2018 home\n",
            "drwxr-xr-x   2 root root    4096 Apr 24  2018 boot\n",
            "drwxr-xr-x   2 root root    4096 Oct 29 21:25 srv\n",
            "drwxr-xr-x   2 root root    4096 Oct 29 21:25 mnt\n",
            "drwxr-xr-x   2 root root    4096 Oct 29 21:25 media\n",
            "drwxr-xr-x   2 root root    4096 Oct 29 21:25 lib64\n",
            "drwxr-xr-x   2 root root    4096 Mar  3 18:00 lib32\n",
            "drwxr-xr-x   1 root root    4096 Mar  3 18:03 run\n",
            "drwxr-xr-x   1 root root    4096 Mar  3 18:03 bin\n",
            "drwxr-xr-x   1 root root    4096 Mar  3 18:04 sbin\n",
            "drwxr-xr-x   1 root root    4096 Mar  3 18:05 lib\n",
            "drwxr-xr-x   1 root root    4096 Mar  3 18:11 content\n",
            "-rw-r--r--   1 root root 3997028 Mar  3 18:11 dlib-19.18.0-cp36-cp36m-linux_x86_64.whl\n",
            "-rw-r--r--   1 root root 3989833 Mar  3 18:11 dlib-19.18.0-cp27-cp27mu-linux_x86_64.whl\n",
            "drwxr-xr-x   4 root root    4096 Mar  3 18:38 tensorflow-2.1.0\n",
            "drwxr-xr-x   4 root root    4096 Mar  3 18:43 swift\n",
            "drwxr-xr-x   1 root root    4096 Mar  3 18:43 tools\n",
            "drwxr-xr-x   1 root root    4096 Mar  3 18:44 datalab\n",
            "-rwxr-xr-x   1 root root       0 Mar 11 18:03 .dockerenv\n",
            "drwxr-xr-x   1 root root    4096 Mar 11 18:03 etc\n",
            "drwxr-xr-x   1 root root    4096 Mar 11 18:03 ..\n",
            "drwxr-xr-x   1 root root    4096 Mar 11 18:03 .\n",
            "dr-xr-xr-x 111 root root       0 Mar 11 18:03 proc\n",
            "drwxr-xr-x   1 root root    4096 Mar 11 18:03 var\n",
            "drwxr-xr-x   1 root root    4096 Mar 11 18:03 usr\n",
            "drwxr-xr-x   1 root root    4096 Mar 11 18:03 opt\n",
            "drwxr-xr-x   5 root root     440 Mar 11 18:03 dev\n",
            "drwx------   1 root root    4096 Mar 11 18:03 root\n",
            "drwxrwxrwt   1 root root    4096 Mar 11 18:04 tmp\n",
            "dr-xr-xr-x  12 root root       0 Mar 11 18:10 sys\n"
          ],
          "name": "stdout"
        }
      ]
    },
    {
      "cell_type": "code",
      "metadata": {
        "id": "XAqSREcRrNR4",
        "colab_type": "code",
        "colab": {}
      },
      "source": [
        "eval_loss, eval_acc = model.evaluate(test_data)\n",
        "print('/nEval_loss:{:.3f},Eval_acc:{:.3f}'.format(eval_loss,eval_acc) )"
      ],
      "execution_count": 0,
      "outputs": []
    },
    {
      "cell_type": "code",
      "metadata": {
        "id": "LUlAWAMjr_E_",
        "colab_type": "code",
        "colab": {}
      },
      "source": [
        "for fo,f1 in test_data.take(2):\n",
        "  print(f1)\n",
        "  print(model.predict(fo))\n",
        "  "
      ],
      "execution_count": 0,
      "outputs": []
    },
    {
      "cell_type": "code",
      "metadata": {
        "id": "JRtG23XzsNBW",
        "colab_type": "code",
        "colab": {}
      },
      "source": [
        "model.layers"
      ],
      "execution_count": 0,
      "outputs": []
    },
    {
      "cell_type": "code",
      "metadata": {
        "id": "X1LxltkZsO_h",
        "colab_type": "code",
        "colab": {}
      },
      "source": [
        "model.summary()"
      ],
      "execution_count": 0,
      "outputs": []
    },
    {
      "cell_type": "code",
      "metadata": {
        "id": "5f7R9yZrshSI",
        "colab_type": "code",
        "colab": {}
      },
      "source": [
        "model.get_layer('embedding').output\n"
      ],
      "execution_count": 0,
      "outputs": []
    },
    {
      "cell_type": "code",
      "metadata": {
        "id": "6no8GuGYstOF",
        "colab_type": "code",
        "colab": {}
      },
      "source": [
        "!nvdia-smi"
      ],
      "execution_count": 0,
      "outputs": []
    },
    {
      "cell_type": "code",
      "metadata": {
        "id": "YzPrlt5vs4qu",
        "colab_type": "code",
        "colab": {}
      },
      "source": [
        "import matplotlib as plt\n",
        "def plot_graph(history,metric):\n",
        "  plt.plot(history.hstory['meric'])\n"
      ],
      "execution_count": 0,
      "outputs": []
    },
    {
      "cell_type": "markdown",
      "metadata": {
        "id": "FVP_qK6D9Blq",
        "colab_type": "text"
      },
      "source": [
        "# New Section"
      ]
    }
  ]
}